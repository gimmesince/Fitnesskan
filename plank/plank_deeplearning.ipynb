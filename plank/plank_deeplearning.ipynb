{
  "nbformat": 4,
  "nbformat_minor": 0,
  "metadata": {
    "colab": {
      "provenance": []
    },
    "kernelspec": {
      "name": "python3",
      "display_name": "Python 3"
    },
    "language_info": {
      "name": "python"
    }
  },
  "cells": [
    {
      "cell_type": "code",
      "source": [
        "import numpy as np\n",
        "import pandas as pd \n",
        "import tensorflow as tf\n",
        "from keras.models import Sequential\n",
        "from keras.layers import Dense\n",
        "from keras.layers import Dropout\n",
        "from keras.optimizers import Adam\n",
        "from keras.utils.np_utils import to_categorical\n",
        "from keras.callbacks import EarlyStopping\n",
        "import keras_tuner as kt\n",
        "from sklearn.model_selection import train_test_split\n",
        "from sklearn.metrics import confusion_matrix, precision_recall_fscore_support\n",
        "import matplotlib.pyplot as plt\n",
        "\n",
        "\n",
        "\n",
        "import pickle\n",
        "\n",
        "import warnings\n",
        "warnings.filterwarnings('ignore')"
      ],
      "metadata": {
        "id": "r6WT1jviVxXy"
      },
      "execution_count": 27,
      "outputs": []
    },
    {
      "cell_type": "code",
      "source": [
        "# Determine important landmarks for plank\n",
        "IMPORTANT_LMS = [\n",
        "    \"NOSE\",\n",
        "    \"LEFT_SHOULDER\",\n",
        "    \"RIGHT_SHOULDER\",\n",
        "    \"LEFT_ELBOW\",\n",
        "    \"RIGHT_ELBOW\",\n",
        "    \"LEFT_WRIST\",\n",
        "    \"RIGHT_WRIST\",\n",
        "    \"LEFT_HIP\",\n",
        "    \"RIGHT_HIP\",\n",
        "    \"LEFT_KNEE\",\n",
        "    \"RIGHT_KNEE\",\n",
        "    \"LEFT_ANKLE\",\n",
        "    \"RIGHT_ANKLE\",\n",
        "    \"LEFT_HEEL\",\n",
        "    \"RIGHT_HEEL\",\n",
        "    \"LEFT_FOOT_INDEX\",\n",
        "    \"RIGHT_FOOT_INDEX\",\n",
        "]\n",
        "\n",
        "# Generate all columns of the data frame\n",
        "\n",
        "HEADERS = [\"label\"] # Label column\n",
        "\n",
        "for lm in IMPORTANT_LMS:\n",
        "    HEADERS += [f\"{lm.lower()}_x\", f\"{lm.lower()}_y\", f\"{lm.lower()}_z\", f\"{lm.lower()}_v\"]"
      ],
      "metadata": {
        "id": "S9puWNPDWLRF"
      },
      "execution_count": 5,
      "outputs": []
    },
    {
      "cell_type": "code",
      "source": [
        "def describe_dataset(dataset_path: str):\n",
        "    '''\n",
        "    Describe dataset\n",
        "    '''\n",
        "\n",
        "    data = pd.read_csv(dataset_path)\n",
        "    print(f\"Headers: {list(data.columns.values)}\")\n",
        "    print(f'Number of rows: {data.shape[0]} \\nNumber of columns: {data.shape[1]}\\n')\n",
        "    print(f\"Labels: \\n{data['label'].value_counts()}\\n\")\n",
        "    print(f\"Missing values: {data.isnull().values.any()}\\n\")\n",
        "    \n",
        "    duplicate = data[data.duplicated()]\n",
        "    print(f\"Duplicate Rows : {len(duplicate.sum(axis=1))}\")\n",
        "\n",
        "    return data\n",
        "\n",
        "\n",
        "\n",
        "\n",
        "def round_up_metric_results(results) -> list:\n",
        "    '''Round up metrics results such as precision score, recall score, ...'''\n",
        "    return list(map(lambda el: round(el, 3), results))\n",
        "\n",
        "\n",
        "df = describe_dataset(\"/content/drive/MyDrive/train_trest_bc/plank/train.csv\")"
      ],
      "metadata": {
        "colab": {
          "base_uri": "https://localhost:8080/"
        },
        "id": "HGwt4wl6WQg_",
        "outputId": "ee63e6a3-edce-4165-bc54-8aa88f91db43"
      },
      "execution_count": 6,
      "outputs": [
        {
          "output_type": "stream",
          "name": "stdout",
          "text": [
            "Headers: ['label', 'nose_x', 'nose_y', 'nose_z', 'nose_v', 'left_shoulder_x', 'left_shoulder_y', 'left_shoulder_z', 'left_shoulder_v', 'right_shoulder_x', 'right_shoulder_y', 'right_shoulder_z', 'right_shoulder_v', 'left_elbow_x', 'left_elbow_y', 'left_elbow_z', 'left_elbow_v', 'right_elbow_x', 'right_elbow_y', 'right_elbow_z', 'right_elbow_v', 'left_wrist_x', 'left_wrist_y', 'left_wrist_z', 'left_wrist_v', 'right_wrist_x', 'right_wrist_y', 'right_wrist_z', 'right_wrist_v', 'left_hip_x', 'left_hip_y', 'left_hip_z', 'left_hip_v', 'right_hip_x', 'right_hip_y', 'right_hip_z', 'right_hip_v', 'left_knee_x', 'left_knee_y', 'left_knee_z', 'left_knee_v', 'right_knee_x', 'right_knee_y', 'right_knee_z', 'right_knee_v', 'left_ankle_x', 'left_ankle_y', 'left_ankle_z', 'left_ankle_v', 'right_ankle_x', 'right_ankle_y', 'right_ankle_z', 'right_ankle_v', 'left_heel_x', 'left_heel_y', 'left_heel_z', 'left_heel_v', 'right_heel_x', 'right_heel_y', 'right_heel_z', 'right_heel_v', 'left_foot_index_x', 'left_foot_index_y', 'left_foot_index_z', 'left_foot_index_v', 'right_foot_index_x', 'right_foot_index_y', 'right_foot_index_z', 'right_foot_index_v']\n",
            "Number of rows: 28520 \n",
            "Number of columns: 69\n",
            "\n",
            "Labels: \n",
            "C    9904\n",
            "L    9546\n",
            "H    9070\n",
            "Name: label, dtype: int64\n",
            "\n",
            "Missing values: False\n",
            "\n",
            "Duplicate Rows : 0\n"
          ]
        }
      ]
    },
    {
      "cell_type": "code",
      "source": [
        "# load dataset\n",
        "df = pd.read_csv(\"/content/drive/MyDrive/train_trest_bc/plank/train.csv\")\n",
        "\n",
        "# Categorizing label\n",
        "df.loc[df[\"label\"] == \"C\", \"label\"] = 0\n",
        "df.loc[df[\"label\"] == \"H\", \"label\"] = 1\n",
        "df.loc[df[\"label\"] == \"L\", \"label\"] = 2\n",
        "\n",
        "print(f'Number of rows: {df.shape[0]} \\nNumber of columns: {df.shape[1]}\\n')\n",
        "print(f\"Labels: \\n{df['label'].value_counts()}\\n\")"
      ],
      "metadata": {
        "colab": {
          "base_uri": "https://localhost:8080/"
        },
        "id": "Jo1dcVC4fJln",
        "outputId": "7e928c45-9492-4cb5-9c28-7483f567380d"
      },
      "execution_count": 7,
      "outputs": [
        {
          "output_type": "stream",
          "name": "stdout",
          "text": [
            "Number of rows: 28520 \n",
            "Number of columns: 69\n",
            "\n",
            "Labels: \n",
            "0    9904\n",
            "2    9546\n",
            "1    9070\n",
            "Name: label, dtype: int64\n",
            "\n"
          ]
        }
      ]
    },
    {
      "cell_type": "code",
      "source": [
        "# Standard Scaling of features\n",
        "# Dump input scaler\n",
        "with open(\"/content/drive/MyDrive/train_trest_bc/plank/input_scaler.pkl\", \"rb\") as f2:\n",
        "    sc = pickle.load(f2)\n",
        "\n",
        "x = df.drop(\"label\", axis = 1)\n",
        "x = pd.DataFrame(sc.transform(x))\n",
        "\n",
        "y = df[\"label\"]\n",
        "\n",
        "# # Converting prediction to categorical\n",
        "y_cat = to_categorical(y)"
      ],
      "metadata": {
        "id": "OpEYqrIWfUpN"
      },
      "execution_count": 8,
      "outputs": []
    },
    {
      "cell_type": "code",
      "source": [
        "x_train, x_test, y_train, y_test = train_test_split(x.values, y_cat, test_size=0.2, random_state=1234)"
      ],
      "metadata": {
        "id": "8FdhrYPafmJv"
      },
      "execution_count": 9,
      "outputs": []
    },
    {
      "cell_type": "code",
      "source": [
        "stop_early = EarlyStopping(monitor='loss', patience=3)\n",
        "\n",
        "# Final Results\n",
        "final_models = {}"
      ],
      "metadata": {
        "id": "TPDrXaghfrKd"
      },
      "execution_count": 10,
      "outputs": []
    },
    {
      "cell_type": "code",
      "source": [
        "def describe_model(model):\n",
        "    '''\n",
        "    Describe Model architecture\n",
        "    '''\n",
        "    print(f\"Describe models architecture\")\n",
        "    for i, layer in enumerate(model.layers):\n",
        "        number_of_units = layer.units if hasattr(layer, 'units') else 0\n",
        "\n",
        "        if hasattr(layer, \"activation\"):\n",
        "            print(f\"Layer-{i + 1}: {number_of_units} units, func: \", layer.activation)\n",
        "        else:\n",
        "            print(f\"Layer-{i + 1}: {number_of_units} units, func: None\")\n",
        "            \n",
        "\n",
        "def get_best_model(tuner):\n",
        "    '''\n",
        "    Describe and return the best model found from keras tuner\n",
        "    '''\n",
        "    best_hps = tuner.get_best_hyperparameters(num_trials=1)[0]\n",
        "    best_model = tuner.hypermodel.build(best_hps)\n",
        "\n",
        "    describe_model(best_model)\n",
        "\n",
        "    print(\"\\nOther params:\")\n",
        "    ignore_params = [\"tuner\", \"activation\", \"layer\"]\n",
        "    for param, value in best_hps.values.items():\n",
        "        if not any(word in param for word in ignore_params):\n",
        "            print(f\"{param}: {value}\")\n",
        "\n",
        "    return best_model"
      ],
      "metadata": {
        "id": "UnsLljCYfvYm"
      },
      "execution_count": 11,
      "outputs": []
    },
    {
      "cell_type": "code",
      "source": [
        "def model_builder(hp):\n",
        "    model = Sequential()\n",
        "    model.add(Dense(68, input_dim = 68, activation = \"relu\"))\n",
        "\n",
        "    hp_activation = hp.Choice('activation', values=['relu', 'tanh'])\n",
        "    hp_layer_1 = hp.Int('layer_1', min_value=32, max_value=512, step=32)\n",
        "    hp_layer_2 = hp.Int('layer_2', min_value=32, max_value=512, step=32)\n",
        "    hp_layer_3 = hp.Int('layer_3', min_value=32, max_value=512, step=32)\n",
        "    hp_layer_4 = hp.Int('layer_4', min_value=32, max_value=512, step=32)\n",
        "    hp_dropout_1 = hp.Float('dropout_1', min_value=0.1, max_value=0.5, step=0.1)\n",
        "    hp_dropout_2 = hp.Float('dropout_2', min_value=0.1, max_value=0.5, step=0.1)\n",
        "    hp_dropout_3 = hp.Float('dropout_3', min_value=0.1, max_value=0.5, step=0.1)\n",
        "    hp_learning_rate = hp.Choice('learning_rate', values=[1e-2, 1e-3, 1e-4])\n",
        "\n",
        "    model.add(Dense(units=hp_layer_1, activation=hp_activation))\n",
        "    model.add(Dropout(rate=hp_dropout_1))\n",
        "    model.add(Dense(units=hp_layer_2, activation=hp_activation))\n",
        "    model.add(Dropout(rate=hp_dropout_2))\n",
        "    model.add(Dense(units=hp_layer_3, activation=hp_activation))\n",
        "    model.add(Dropout(rate=hp_dropout_3))\n",
        "    model.add(Dense(units=hp_layer_4, activation=hp_activation))\n",
        "    model.add(Dense(3, activation = \"softmax\"))\n",
        "\n",
        "    model.compile(optimizer=Adam(learning_rate=hp_learning_rate), loss=\"categorical_crossentropy\", metrics = [\"accuracy\"])\n",
        "    \n",
        "    return model"
      ],
      "metadata": {
        "id": "A0fYcTxCoezf"
      },
      "execution_count": 12,
      "outputs": []
    },
    {
      "cell_type": "code",
      "source": [
        "tuner = kt.Hyperband(\n",
        "    model_builder,\n",
        "    objective='accuracy',\n",
        "    max_epochs=10,\n",
        "    directory='keras_tuner_dir',\n",
        "    project_name='keras_tuner_demo_4'\n",
        ")\n",
        "tuner.search(x_train, y_train, epochs=10)"
      ],
      "metadata": {
        "id": "TKpuwR38p0_9"
      },
      "execution_count": 14,
      "outputs": []
    },
    {
      "cell_type": "code",
      "source": [
        "model= get_best_model(tuner)\n",
        "history=model.fit(x_train, y_train, epochs=100, batch_size=10, validation_data=(x_test, y_test), callbacks=[stop_early])"
      ],
      "metadata": {
        "colab": {
          "base_uri": "https://localhost:8080/"
        },
        "id": "f4Il-ANZvt_Y",
        "outputId": "699f6281-a2fc-418b-c2d0-ecfd1aeae437"
      },
      "execution_count": 20,
      "outputs": [
        {
          "output_type": "stream",
          "name": "stdout",
          "text": [
            "Describe models architecture\n",
            "Layer-1: 68 units, func:  <function relu at 0x7f9b511ca440>\n",
            "Layer-2: 512 units, func:  <function tanh at 0x7f9b511ca7a0>\n",
            "Layer-3: 0 units, func: None\n",
            "Layer-4: 416 units, func:  <function tanh at 0x7f9b511ca7a0>\n",
            "Layer-5: 0 units, func: None\n",
            "Layer-6: 512 units, func:  <function tanh at 0x7f9b511ca7a0>\n",
            "Layer-7: 0 units, func: None\n",
            "Layer-8: 352 units, func:  <function tanh at 0x7f9b511ca7a0>\n",
            "Layer-9: 3 units, func:  <function softmax at 0x7f9b511c9a20>\n",
            "\n",
            "Other params:\n",
            "dropout_1: 0.30000000000000004\n",
            "dropout_2: 0.1\n",
            "dropout_3: 0.4\n",
            "learning_rate: 0.0001\n",
            "Epoch 1/100\n",
            "2282/2282 [==============================] - 23s 10ms/step - loss: 0.0620 - accuracy: 0.9801 - val_loss: 0.0077 - val_accuracy: 0.9981\n",
            "Epoch 2/100\n",
            "2282/2282 [==============================] - 21s 9ms/step - loss: 0.0140 - accuracy: 0.9964 - val_loss: 0.0037 - val_accuracy: 0.9991\n",
            "Epoch 3/100\n",
            "2282/2282 [==============================] - 24s 10ms/step - loss: 0.0103 - accuracy: 0.9972 - val_loss: 0.0045 - val_accuracy: 0.9989\n",
            "Epoch 4/100\n",
            "2282/2282 [==============================] - 21s 9ms/step - loss: 0.0083 - accuracy: 0.9980 - val_loss: 0.0031 - val_accuracy: 0.9988\n",
            "Epoch 5/100\n",
            "2282/2282 [==============================] - 23s 10ms/step - loss: 0.0066 - accuracy: 0.9982 - val_loss: 0.0019 - val_accuracy: 0.9993\n",
            "Epoch 6/100\n",
            "2282/2282 [==============================] - 21s 9ms/step - loss: 0.0076 - accuracy: 0.9982 - val_loss: 0.0030 - val_accuracy: 0.9993\n",
            "Epoch 7/100\n",
            "2282/2282 [==============================] - 21s 9ms/step - loss: 0.0058 - accuracy: 0.9983 - val_loss: 0.0026 - val_accuracy: 0.9993\n",
            "Epoch 8/100\n",
            "2282/2282 [==============================] - 19s 8ms/step - loss: 0.0054 - accuracy: 0.9987 - val_loss: 0.0029 - val_accuracy: 0.9995\n",
            "Epoch 9/100\n",
            "2282/2282 [==============================] - 21s 9ms/step - loss: 0.0045 - accuracy: 0.9988 - val_loss: 0.0028 - val_accuracy: 0.9995\n",
            "Epoch 10/100\n",
            "2282/2282 [==============================] - 20s 9ms/step - loss: 0.0048 - accuracy: 0.9989 - val_loss: 0.0024 - val_accuracy: 0.9993\n",
            "Epoch 11/100\n",
            "2282/2282 [==============================] - 20s 9ms/step - loss: 0.0042 - accuracy: 0.9991 - val_loss: 0.0030 - val_accuracy: 0.9993\n",
            "Epoch 12/100\n",
            "2282/2282 [==============================] - 21s 9ms/step - loss: 0.0036 - accuracy: 0.9992 - val_loss: 0.0020 - val_accuracy: 0.9996\n",
            "Epoch 13/100\n",
            "2282/2282 [==============================] - 19s 9ms/step - loss: 0.0032 - accuracy: 0.9993 - val_loss: 0.0020 - val_accuracy: 0.9996\n",
            "Epoch 14/100\n",
            "2282/2282 [==============================] - 19s 8ms/step - loss: 0.0046 - accuracy: 0.9986 - val_loss: 0.0023 - val_accuracy: 0.9995\n",
            "Epoch 15/100\n",
            "2282/2282 [==============================] - 21s 9ms/step - loss: 0.0032 - accuracy: 0.9993 - val_loss: 0.0074 - val_accuracy: 0.9977\n",
            "Epoch 16/100\n",
            "2282/2282 [==============================] - 20s 9ms/step - loss: 0.0053 - accuracy: 0.9987 - val_loss: 0.0027 - val_accuracy: 0.9991\n",
            "Epoch 17/100\n",
            "2282/2282 [==============================] - 21s 9ms/step - loss: 0.0030 - accuracy: 0.9993 - val_loss: 0.0031 - val_accuracy: 0.9991\n",
            "Epoch 18/100\n",
            "2282/2282 [==============================] - 20s 9ms/step - loss: 0.0042 - accuracy: 0.9988 - val_loss: 0.0020 - val_accuracy: 0.9996\n",
            "Epoch 19/100\n",
            "2282/2282 [==============================] - 20s 9ms/step - loss: 0.0029 - accuracy: 0.9993 - val_loss: 0.0023 - val_accuracy: 0.9995\n",
            "Epoch 20/100\n",
            "2282/2282 [==============================] - 21s 9ms/step - loss: 0.0033 - accuracy: 0.9993 - val_loss: 0.0027 - val_accuracy: 0.9995\n",
            "Epoch 21/100\n",
            "2282/2282 [==============================] - 19s 8ms/step - loss: 0.0035 - accuracy: 0.9993 - val_loss: 0.0016 - val_accuracy: 0.9996\n",
            "Epoch 22/100\n",
            "2282/2282 [==============================] - 19s 8ms/step - loss: 0.0022 - accuracy: 0.9995 - val_loss: 0.0020 - val_accuracy: 0.9996\n",
            "Epoch 23/100\n",
            "2282/2282 [==============================] - 21s 9ms/step - loss: 0.0021 - accuracy: 0.9996 - val_loss: 0.0034 - val_accuracy: 0.9995\n",
            "Epoch 24/100\n",
            "2282/2282 [==============================] - 21s 9ms/step - loss: 0.0032 - accuracy: 0.9992 - val_loss: 0.0023 - val_accuracy: 0.9995\n",
            "Epoch 25/100\n",
            "2282/2282 [==============================] - 21s 9ms/step - loss: 0.0041 - accuracy: 0.9992 - val_loss: 0.0025 - val_accuracy: 0.9996\n",
            "Epoch 26/100\n",
            "2282/2282 [==============================] - 19s 8ms/step - loss: 0.0026 - accuracy: 0.9995 - val_loss: 0.0014 - val_accuracy: 0.9996\n"
          ]
        }
      ]
    },
    {
      "cell_type": "code",
      "source": [
        "describe_model(model)"
      ],
      "metadata": {
        "colab": {
          "base_uri": "https://localhost:8080/"
        },
        "id": "0c5221MnvbS8",
        "outputId": "36cd3296-e34f-4a7c-9369-25a07832b21a"
      },
      "execution_count": 16,
      "outputs": [
        {
          "output_type": "stream",
          "name": "stdout",
          "text": [
            "Describe models architecture\n",
            "Layer-1: 68 units, func:  <function relu at 0x7f9b511ca440>\n",
            "Layer-2: 512 units, func:  <function tanh at 0x7f9b511ca7a0>\n",
            "Layer-3: 0 units, func: None\n",
            "Layer-4: 416 units, func:  <function tanh at 0x7f9b511ca7a0>\n",
            "Layer-5: 0 units, func: None\n",
            "Layer-6: 512 units, func:  <function tanh at 0x7f9b511ca7a0>\n",
            "Layer-7: 0 units, func: None\n",
            "Layer-8: 352 units, func:  <function tanh at 0x7f9b511ca7a0>\n",
            "Layer-9: 3 units, func:  <function softmax at 0x7f9b511c9a20>\n"
          ]
        }
      ]
    },
    {
      "cell_type": "code",
      "source": [
        "evaluate = model.evaluate(x=x_test,y=y_test)\n"
      ],
      "metadata": {
        "colab": {
          "base_uri": "https://localhost:8080/"
        },
        "id": "GGPiUTUyxYfU",
        "outputId": "763dfa15-827c-4fb1-f3ef-6e8242a68e21"
      },
      "execution_count": 21,
      "outputs": [
        {
          "output_type": "stream",
          "name": "stdout",
          "text": [
            "179/179 [==============================] - 1s 4ms/step - loss: 0.0014 - accuracy: 0.9996\n"
          ]
        }
      ]
    },
    {
      "cell_type": "code",
      "source": [
        "epoch = range(len(history.history[\"loss\"]))\n",
        "plt.figure()\n",
        "plt.plot(epoch, history.history['loss'], 'red', label = 'train_loss')\n",
        "plt.plot(epoch, history.history['val_loss'], 'blue', label = 'val_loss')\n",
        "plt.title(\"Training Loss on Dataset\")\n",
        "plt.xlabel(\"Epoch #\")\n",
        "plt.ylabel(\"Loss\")\n",
        "plt.legend()"
      ],
      "metadata": {
        "colab": {
          "base_uri": "https://localhost:8080/",
          "height": 489
        },
        "id": "LrEzK40Y386G",
        "outputId": "d5cbd7c7-3f37-4453-ec1f-2b09d93bddf5"
      },
      "execution_count": 22,
      "outputs": [
        {
          "output_type": "execute_result",
          "data": {
            "text/plain": [
              "<matplotlib.legend.Legend at 0x7f9b43c75db0>"
            ]
          },
          "metadata": {},
          "execution_count": 22
        },
        {
          "output_type": "display_data",
          "data": {
            "text/plain": [
              "<Figure size 640x480 with 1 Axes>"
            ],
            "image/png": "[encoded data removed]"
          },
          "metadata": {}
        }
      ]
    },
    {
      "cell_type": "code",
      "source": [
        "epoch = range(len(history.history[\"loss\"]))\n",
        "plt.figure()\n",
        "plt.plot(epoch, history.history['accuracy'], 'red', label = 'train_accuracy')\n",
        "plt.plot(epoch, history.history['val_accuracy'], 'blue', label = 'val_accuaracy')\n",
        "plt.title(\"Training Accuracy on Dataset\")\n",
        "plt.xlabel(\"Epoch #\")\n",
        "plt.ylabel(\"accuracy\")\n",
        "plt.legend()"
      ],
      "metadata": {
        "colab": {
          "base_uri": "https://localhost:8080/",
          "height": 489
        },
        "id": "H1zejsYB4BAg",
        "outputId": "754b1ff5-950f-4749-9afc-25ab2c805e3c"
      },
      "execution_count": 23,
      "outputs": [
        {
          "output_type": "execute_result",
          "data": {
            "text/plain": [
              "<matplotlib.legend.Legend at 0x7f9b43398fd0>"
            ]
          },
          "metadata": {},
          "execution_count": 23
        },
        {
          "output_type": "display_data",
          "data": {
            "text/plain": [
              "<Figure size 640x480 with 1 Axes>"
            ],
            "image/png": "[encoded data removed]"
          },
          "metadata": {}
        }
      ]
    },
    {
      "cell_type": "code",
      "source": [
        "model.save(\"/content/drive/MyDrive/train_trest_bc/plank/models/\")"
      ],
      "metadata": {
        "id": "KENtLon-4FIj"
      },
      "execution_count": 26,
      "outputs": []
    },
    {
      "cell_type": "code",
      "source": [
        "saved_model_path = \"/content/drive/MyDrive/train_trest_bc/plank/models/\"\n",
        "converter = tf.lite.TFLiteConverter.from_saved_model(saved_model_path)\n",
        "\n",
        "# Convert to TFLite model\n",
        "tflite_model = converter.convert()"
      ],
      "metadata": {
        "id": "H4ZoJ6g77ERI"
      },
      "execution_count": 28,
      "outputs": []
    },
    {
      "cell_type": "code",
      "source": [
        "tflite_model_path = \"/content/drive/MyDrive/train_trest_bc/plank/tflite/plank_model.tflite\"\n",
        "with open(tflite_model_path, 'wb') as f:\n",
        "    f.write(tflite_model)"
      ],
      "metadata": {
        "id": "Bs_8E0NZ7huD"
      },
      "execution_count": 29,
      "outputs": []
    }
  ]
}