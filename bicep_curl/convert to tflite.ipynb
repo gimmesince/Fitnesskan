{
 "cells": [
  {
   "cell_type": "code",
   "execution_count": 1,
   "id": "f9521375",
   "metadata": {},
   "outputs": [],
   "source": [
    "import tensorflow as tf"
   ]
  },
  {
   "cell_type": "code",
   "execution_count": 2,
   "id": "7ef81527",
   "metadata": {},
   "outputs": [],
   "source": [
    "hdf5_model_path = r'C:\\Users\\Ryan\\Documents\\learnpython\\39\\bicep_curl\\model\\bicep_dp_model.h5'"
   ]
  },
  {
   "cell_type": "code",
   "execution_count": 4,
   "id": "214b85fd",
   "metadata": {},
   "outputs": [],
   "source": [
    "model = tf.keras.models.load_model(hdf5_model_path)"
   ]
  },
  {
   "cell_type": "code",
   "execution_count": 5,
   "id": "2a145b62",
   "metadata": {},
   "outputs": [
    {
     "name": "stdout",
     "output_type": "stream",
     "text": [
      "INFO:tensorflow:Assets written to: C:\\Users\\Ryan\\AppData\\Local\\Temp\\tmpo5l2_dw5\\assets\n"
     ]
    }
   ],
   "source": [
    "converter = tf.lite.TFLiteConverter.from_keras_model(model)\n",
    "tflite_model = converter.convert()"
   ]
  },
  {
   "cell_type": "code",
   "execution_count": 6,
   "id": "41da58bb",
   "metadata": {},
   "outputs": [],
   "source": [
    "tflite_model_path = r'C:\\Users\\Ryan\\Documents\\learnpython\\39\\bicep_curl\\model\\bicep_dp_model.tflite'\n",
    "with open(tflite_model_path, 'wb') as f:\n",
    "    f.write(tflite_model)"
   ]
  },
  {
   "cell_type": "code",
   "execution_count": null,
   "id": "4574dd95",
   "metadata": {},
   "outputs": [],
   "source": []
  }
 ],
 "metadata": {
  "kernelspec": {
   "display_name": "Python 3 (ipykernel)",
   "language": "python",
   "name": "python3"
  },
  "language_info": {
   "codemirror_mode": {
    "name": "ipython",
    "version": 3
   },
   "file_extension": ".py",
   "mimetype": "text/x-python",
   "name": "python",
   "nbconvert_exporter": "python",
   "pygments_lexer": "ipython3",
   "version": "3.9.2"
  }
 },
 "nbformat": 4,
 "nbformat_minor": 5
}
