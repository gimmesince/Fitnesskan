{
  "nbformat": 4,
  "nbformat_minor": 0,
  "metadata": {
    "colab": {
      "provenance": []
    },
    "kernelspec": {
      "name": "python3",
      "display_name": "Python 3"
    },
    "language_info": {
      "name": "python"
    }
  },
  "cells": [
    {
      "cell_type": "code",
      "execution_count": 19,
      "metadata": {
        "id": "eZVG_kgozZqH"
      },
      "outputs": [],
      "source": [
        "import numpy as np\n",
        "import pandas as pd \n",
        "import tensorflow as tf\n",
        "from sklearn.model_selection import train_test_split\n",
        "from sklearn.metrics import confusion_matrix, precision_recall_fscore_support\n",
        "import pickle\n",
        "from keras.utils.np_utils import to_categorical\n",
        "import keras_tuner as kt\n",
        "from keras.callbacks import EarlyStopping\n",
        "import matplotlib.pyplot as plt"
      ]
    },
    {
      "cell_type": "code",
      "source": [
        "#important landmarks\n",
        "landmarks = [\n",
        "    \"NOSE\",\n",
        "    \"LEFT_SHOULDER\",\n",
        "    \"RIGHT_SHOULDER\",\n",
        "    \"RIGHT_ELBOW\",\n",
        "    \"LEFT_ELBOW\",\n",
        "    \"RIGHT_WRIST\",\n",
        "    \"LEFT_WRIST\",\n",
        "    \"LEFT_HIP\",\n",
        "    \"RIGHT_HIP\",\n",
        "]\n",
        "\n",
        "\n",
        "\n",
        "HEADERS = [\"label\"]\n",
        "\n",
        "for lm in landmarks:\n",
        "    HEADERS += [f\"{lm.lower()}_x\", f\"{lm.lower()}_y\", f\"{lm.lower()}_z\", f\"{lm.lower()}_v\"]"
      ],
      "metadata": {
        "id": "Sly93LV5zv_c"
      },
      "execution_count": 5,
      "outputs": []
    },
    {
      "cell_type": "code",
      "source": [
        "print(HEADERS)"
      ],
      "metadata": {
        "colab": {
          "base_uri": "https://localhost:8080/"
        },
        "id": "W0THcVuA0IPp",
        "outputId": "c054f7af-9247-43c1-fb19-e54ae11c5936"
      },
      "execution_count": 6,
      "outputs": [
        {
          "output_type": "stream",
          "name": "stdout",
          "text": [
            "['label', 'nose_x', 'nose_y', 'nose_z', 'nose_v', 'left_shoulder_x', 'left_shoulder_y', 'left_shoulder_z', 'left_shoulder_v', 'right_shoulder_x', 'right_shoulder_y', 'right_shoulder_z', 'right_shoulder_v', 'right_elbow_x', 'right_elbow_y', 'right_elbow_z', 'right_elbow_v', 'left_elbow_x', 'left_elbow_y', 'left_elbow_z', 'left_elbow_v', 'right_wrist_x', 'right_wrist_y', 'right_wrist_z', 'right_wrist_v', 'left_wrist_x', 'left_wrist_y', 'left_wrist_z', 'left_wrist_v', 'left_hip_x', 'left_hip_y', 'left_hip_z', 'left_hip_v', 'right_hip_x', 'right_hip_y', 'right_hip_z', 'right_hip_v']\n"
          ]
        }
      ]
    },
    {
      "cell_type": "code",
      "source": [
        "def describe_dataset(dataset_path: str):\n",
        "\n",
        "\n",
        "    data = pd.read_csv(dataset_path)\n",
        "    print(f\"Headers: {list(data.columns.values)}\")\n",
        "    print(f'Number of rows: {data.shape[0]} \\nNumber of columns: {data.shape[1]}\\n')\n",
        "    print(f\"Labels: \\n{data['label'].value_counts()}\\n\")\n",
        "    print(f\"Missing values: {data.isnull().values.any()}\\n\")\n",
        "    \n",
        "    duplicate = data[data.duplicated()]\n",
        "    print(f\"Duplicate Rows : {len(duplicate.sum(axis=1))}\")\n",
        "\n",
        "    return data\n",
        "\n",
        "\n",
        "def round_up_metric_results(results) -> list:\n",
        "    '''Round up metrics results such as precision score, recall score, ...'''\n",
        "    return list(map(lambda el: round(el, 3), results))"
      ],
      "metadata": {
        "id": "bLxDUax10MNw"
      },
      "execution_count": 7,
      "outputs": []
    },
    {
      "cell_type": "code",
      "source": [
        "# load dataset\n",
        "df = describe_dataset(\"/content/drive/MyDrive/train_trest_bc/bc/train.csv\")\n",
        "\n",
        "# Categorizing label\n",
        "df.loc[df[\"label\"] == \"C\", \"label\"] = 0\n",
        "df.loc[df[\"label\"] == \"L\", \"label\"] = 1"
      ],
      "metadata": {
        "colab": {
          "base_uri": "https://localhost:8080/"
        },
        "id": "KOlHNv020iHh",
        "outputId": "ad1874fd-6461-431d-92f8-bbeee8be3a0c"
      },
      "execution_count": 8,
      "outputs": [
        {
          "output_type": "stream",
          "name": "stdout",
          "text": [
            "Headers: ['label', 'nose_x', 'nose_y', 'nose_z', 'nose_v', 'left_shoulder_x', 'left_shoulder_y', 'left_shoulder_z', 'left_shoulder_v', 'right_shoulder_x', 'right_shoulder_y', 'right_shoulder_z', 'right_shoulder_v', 'right_elbow_x', 'right_elbow_y', 'right_elbow_z', 'right_elbow_v', 'left_elbow_x', 'left_elbow_y', 'left_elbow_z', 'left_elbow_v', 'right_wrist_x', 'right_wrist_y', 'right_wrist_z', 'right_wrist_v', 'left_wrist_x', 'left_wrist_y', 'left_wrist_z', 'left_wrist_v', 'left_hip_x', 'left_hip_y', 'left_hip_z', 'left_hip_v', 'right_hip_x', 'right_hip_y', 'right_hip_z', 'right_hip_v']\n",
            "Number of rows: 15372 \n",
            "Number of columns: 37\n",
            "\n",
            "Labels: \n",
            "C    8238\n",
            "L    7134\n",
            "Name: label, dtype: int64\n",
            "\n",
            "Missing values: False\n",
            "\n",
            "Duplicate Rows : 0\n"
          ]
        }
      ]
    },
    {
      "cell_type": "code",
      "source": [
        "with open(\"/content/drive/MyDrive/train_trest_bc/model/input_scaler.pkl\", \"rb\") as f:\n",
        "    sc = pickle.load(f)"
      ],
      "metadata": {
        "id": "4z06AxYR18a_",
        "colab": {
          "base_uri": "https://localhost:8080/"
        },
        "outputId": "7f888d9b-ff5b-4dac-b854-047c3e31cfd6"
      },
      "execution_count": 9,
      "outputs": [
        {
          "output_type": "stream",
          "name": "stderr",
          "text": [
            "/usr/local/lib/python3.10/dist-packages/sklearn/base.py:318: UserWarning: Trying to unpickle estimator StandardScaler from version 1.1.2 when using version 1.2.2. This might lead to breaking code or invalid results. Use at your own risk. For more info please refer to:\n",
            "https://scikit-learn.org/stable/model_persistence.html#security-maintainability-limitations\n",
            "  warnings.warn(\n"
          ]
        }
      ]
    },
    {
      "cell_type": "code",
      "source": [
        "# Standard Scaling of features\n",
        "x = df.drop(\"label\", axis = 1)\n",
        "x = pd.DataFrame(sc.transform(x))\n",
        "\n",
        "y = df[\"label\"]\n",
        "\n",
        "# # Converting prediction to categorical\n",
        "y_cat = to_categorical(y)"
      ],
      "metadata": {
        "id": "_QPj000m2C6P"
      },
      "execution_count": 10,
      "outputs": []
    },
    {
      "cell_type": "code",
      "source": [
        "x_train, x_test, y_train, y_test = train_test_split(x.values, y_cat, test_size=0.2, random_state=1234)"
      ],
      "metadata": {
        "id": "OhSgm-dU2bI7"
      },
      "execution_count": 11,
      "outputs": []
    },
    {
      "cell_type": "code",
      "source": [
        "def describe_model(model):\n",
        "    '''\n",
        "    Describe Model architecture\n",
        "    '''\n",
        "    print(f\"Describe models architecture\")\n",
        "    for i, layer in enumerate(model.layers):\n",
        "        number_of_units = layer.units if hasattr(layer, 'units') else 0\n",
        "\n",
        "        if hasattr(layer, \"activation\"):\n",
        "            print(f\"Layer-{i + 1}: {number_of_units} units, func: \", layer.activation)\n",
        "        else:\n",
        "            print(f\"Layer-{i + 1}: {number_of_units} units, func: None\")"
      ],
      "metadata": {
        "id": "987W8B-n2gYn"
      },
      "execution_count": 12,
      "outputs": []
    },
    {
      "cell_type": "code",
      "source": [
        "def get_best_model(tuner):\n",
        "    '''\n",
        "    Describe and return the best model found from keras tuner\n",
        "    '''\n",
        "    best_hps = tuner.get_best_hyperparameters(num_trials=1)[0]\n",
        "    best_model = tuner.hypermodel.build(best_hps)\n",
        "\n",
        "    describe_model(best_model)\n",
        "\n",
        "    print(\"\\nOther params:\")\n",
        "    ignore_params = [\"tuner\", \"activation\", \"layer\", \"epoch\"]\n",
        "    for param, value in best_hps.values.items():\n",
        "        if not any(word in param for word in ignore_params):\n",
        "            print(f\"{param}: {value}\")\n",
        "\n",
        "    return best_model"
      ],
      "metadata": {
        "id": "Ohv8x89zESus"
      },
      "execution_count": 13,
      "outputs": []
    },
    {
      "cell_type": "code",
      "source": [
        "stop_early = EarlyStopping(monitor='val_loss', patience=3)\n",
        "\n",
        "# Final Results\n",
        "final_models = {}"
      ],
      "metadata": {
        "id": "kS3_tV8nEJeB"
      },
      "execution_count": 14,
      "outputs": []
    },
    {
      "cell_type": "code",
      "source": [
        "def model_builder(hp):\n",
        "    model = tf.keras.models.Sequential()\n",
        "    model.add(tf.keras.layers.Dense(36, input_dim = 36, activation = \"relu\"))\n",
        "\n",
        "    hp_activation = hp.Choice('activation', values=['relu', 'tanh'])\n",
        "    hp_layer_1 = hp.Int('layer_1', min_value=32, max_value=512, step=32)\n",
        "    hp_layer_2 = hp.Int('layer_2', min_value=32, max_value=512, step=32)\n",
        "    hp_layer_3 = hp.Int('layer_3', min_value=32, max_value=512, step=32)\n",
        "    hp_layer_4 = hp.Int('layer_4', min_value=32, max_value=512, step=32)\n",
        "    hp_layer_5 = hp.Int('layer_5', min_value=32, max_value=512, step=32)\n",
        "    hp_layer_6 = hp.Int('layer_6', min_value=32, max_value=512, step=32)\n",
        "    hp_layer_7 = hp.Int('layer_7', min_value=32, max_value=512, step=32)\n",
        "    hp_layer_8 = hp.Int('layer_8', min_value=32, max_value=512, step=32)\n",
        "    hp_learning_rate = hp.Choice('learning_rate', values=[1e-2, 1e-3, 1e-4])\n",
        "\n",
        "    model.add(tf.keras.layers.Dense(units=hp_layer_1, activation=hp_activation))\n",
        "    model.add(tf.keras.layers.Dense(units=hp_layer_2, activation=hp_activation))\n",
        "    model.add(tf.keras.layers.Dense(units=hp_layer_3, activation=hp_activation))\n",
        "    model.add(tf.keras.layers.Dense(units=hp_layer_4, activation=hp_activation))\n",
        "    model.add(tf.keras.layers.Dense(units=hp_layer_5, activation=hp_activation))\n",
        "    model.add(tf.keras.layers.Dense(units=hp_layer_6, activation=hp_activation))\n",
        "    model.add(tf.keras.layers.Dense(units=hp_layer_7, activation=hp_activation))\n",
        "    model.add(tf.keras.layers.Dense(units=hp_layer_8, activation=hp_activation))\n",
        "    model.add(tf.keras.layers.Dense(2, activation = \"softmax\"))\n",
        "\n",
        "    model.compile(optimizer=tf.keras.optimizers.Adam(learning_rate=hp_learning_rate), loss=\"categorical_crossentropy\", metrics = [\"accuracy\"])\n",
        "    \n",
        "    return model"
      ],
      "metadata": {
        "id": "yBvE8p5F2mW4"
      },
      "execution_count": 15,
      "outputs": []
    },
    {
      "cell_type": "code",
      "source": [
        "tuner_dl = kt.Hyperband(\n",
        "    model_builder,\n",
        "    objective='val_accuracy',\n",
        "    max_epochs=10,\n",
        "    directory='keras_tuner_dir',\n",
        "    project_name='keras_tuner_demo_6'\n",
        ")\n",
        "tuner_dl.search(x_train, y_train, validation_data=(x_test, y_test), epochs=10)"
      ],
      "metadata": {
        "id": "mijODWdK-f-L",
        "colab": {
          "base_uri": "https://localhost:8080/"
        },
        "outputId": "1e345893-803c-404d-fb1f-004a27e6e513"
      },
      "execution_count": 16,
      "outputs": [
        {
          "output_type": "stream",
          "name": "stdout",
          "text": [
            "Trial 30 Complete [00h 01m 04s]\n",
            "val_accuracy: 0.546016275882721\n",
            "\n",
            "Best val_accuracy So Far: 0.9983739852905273\n",
            "Total elapsed time: 00h 15m 00s\n"
          ]
        }
      ]
    },
    {
      "cell_type": "code",
      "source": [
        "model_dl = get_best_model(tuner_dl)\n",
        "history=model_dl.fit(x_train, y_train, epochs=100, batch_size=10, validation_data=(x_test, y_test), callbacks=[stop_early])"
      ],
      "metadata": {
        "colab": {
          "base_uri": "https://localhost:8080/"
        },
        "id": "_N8adqd1DbHH",
        "outputId": "3a5ee74d-5300-46ab-b899-3c7a84b6be92"
      },
      "execution_count": 17,
      "outputs": [
        {
          "output_type": "stream",
          "name": "stdout",
          "text": [
            "Describe models architecture\n",
            "Layer-1: 36 units, func:  <function relu at 0x7fe2332bc4c0>\n",
            "Layer-2: 96 units, func:  <function relu at 0x7fe2332bc4c0>\n",
            "Layer-3: 512 units, func:  <function relu at 0x7fe2332bc4c0>\n",
            "Layer-4: 96 units, func:  <function relu at 0x7fe2332bc4c0>\n",
            "Layer-5: 320 units, func:  <function relu at 0x7fe2332bc4c0>\n",
            "Layer-6: 512 units, func:  <function relu at 0x7fe2332bc4c0>\n",
            "Layer-7: 160 units, func:  <function relu at 0x7fe2332bc4c0>\n",
            "Layer-8: 384 units, func:  <function relu at 0x7fe2332bc4c0>\n",
            "Layer-9: 128 units, func:  <function relu at 0x7fe2332bc4c0>\n",
            "Layer-10: 2 units, func:  <function softmax at 0x7fe2332a7a30>\n",
            "\n",
            "Other params:\n",
            "learning_rate: 0.0001\n",
            "Epoch 1/100\n",
            "1230/1230 [==============================] - 17s 13ms/step - loss: 0.0853 - accuracy: 0.9715 - val_loss: 0.0216 - val_accuracy: 0.9958\n",
            "Epoch 2/100\n",
            "1230/1230 [==============================] - 14s 11ms/step - loss: 0.0259 - accuracy: 0.9927 - val_loss: 0.0266 - val_accuracy: 0.9922\n",
            "Epoch 3/100\n",
            "1230/1230 [==============================] - 14s 11ms/step - loss: 0.0187 - accuracy: 0.9954 - val_loss: 0.0143 - val_accuracy: 0.9964\n",
            "Epoch 4/100\n",
            "1230/1230 [==============================] - 14s 11ms/step - loss: 0.0169 - accuracy: 0.9959 - val_loss: 0.0140 - val_accuracy: 0.9961\n",
            "Epoch 5/100\n",
            "1230/1230 [==============================] - 13s 11ms/step - loss: 0.0146 - accuracy: 0.9962 - val_loss: 0.0086 - val_accuracy: 0.9971\n",
            "Epoch 6/100\n",
            "1230/1230 [==============================] - 14s 11ms/step - loss: 0.0112 - accuracy: 0.9966 - val_loss: 0.0101 - val_accuracy: 0.9967\n",
            "Epoch 7/100\n",
            "1230/1230 [==============================] - 14s 11ms/step - loss: 0.0097 - accuracy: 0.9974 - val_loss: 0.0064 - val_accuracy: 0.9990\n",
            "Epoch 8/100\n",
            "1230/1230 [==============================] - 14s 11ms/step - loss: 0.0087 - accuracy: 0.9969 - val_loss: 0.0115 - val_accuracy: 0.9961\n",
            "Epoch 9/100\n",
            "1230/1230 [==============================] - 14s 11ms/step - loss: 0.0069 - accuracy: 0.9974 - val_loss: 0.0116 - val_accuracy: 0.9967\n",
            "Epoch 10/100\n",
            "1230/1230 [==============================] - 13s 11ms/step - loss: 0.0069 - accuracy: 0.9976 - val_loss: 0.0099 - val_accuracy: 0.9980\n"
          ]
        }
      ]
    },
    {
      "cell_type": "code",
      "source": [
        "describe_model(model_dl)"
      ],
      "metadata": {
        "colab": {
          "base_uri": "https://localhost:8080/"
        },
        "id": "7ND3cGl6Fgw1",
        "outputId": "b1c8f061-fdac-4225-c979-a3f97a1cccd6"
      },
      "execution_count": 18,
      "outputs": [
        {
          "output_type": "stream",
          "name": "stdout",
          "text": [
            "Describe models architecture\n",
            "Layer-1: 36 units, func:  <function relu at 0x7fe2332bc4c0>\n",
            "Layer-2: 96 units, func:  <function relu at 0x7fe2332bc4c0>\n",
            "Layer-3: 512 units, func:  <function relu at 0x7fe2332bc4c0>\n",
            "Layer-4: 96 units, func:  <function relu at 0x7fe2332bc4c0>\n",
            "Layer-5: 320 units, func:  <function relu at 0x7fe2332bc4c0>\n",
            "Layer-6: 512 units, func:  <function relu at 0x7fe2332bc4c0>\n",
            "Layer-7: 160 units, func:  <function relu at 0x7fe2332bc4c0>\n",
            "Layer-8: 384 units, func:  <function relu at 0x7fe2332bc4c0>\n",
            "Layer-9: 128 units, func:  <function relu at 0x7fe2332bc4c0>\n",
            "Layer-10: 2 units, func:  <function softmax at 0x7fe2332a7a30>\n"
          ]
        }
      ]
    },
    {
      "cell_type": "code",
      "source": [
        "evaluate = model_dl.evaluate(x=x_test,y=y_test)"
      ],
      "metadata": {
        "colab": {
          "base_uri": "https://localhost:8080/"
        },
        "id": "BEb19vhgs1md",
        "outputId": "d646f8b7-fa80-440e-9d4f-30015b7cfac8"
      },
      "execution_count": 24,
      "outputs": [
        {
          "output_type": "stream",
          "name": "stdout",
          "text": [
            "97/97 [==============================] - 1s 5ms/step - loss: 0.0099 - accuracy: 0.9980\n"
          ]
        }
      ]
    },
    {
      "cell_type": "code",
      "source": [
        "epoch = range(len(history.history[\"loss\"]))\n",
        "plt.figure()\n",
        "plt.plot(epoch, history.history['loss'], 'red', label = 'train_loss')\n",
        "plt.plot(epoch, history.history['val_loss'], 'blue', label = 'val_loss')\n",
        "plt.title(\"Training Loss on Dataset\")\n",
        "plt.xlabel(\"Epoch #\")\n",
        "plt.ylabel(\"Loss\")\n",
        "plt.legend()"
      ],
      "metadata": {
        "colab": {
          "base_uri": "https://localhost:8080/",
          "height": 489
        },
        "id": "XrmVuJRo3GIP",
        "outputId": "4b248d44-a58e-410c-bbb7-4cf9a89472a2"
      },
      "execution_count": 25,
      "outputs": [
        {
          "output_type": "execute_result",
          "data": {
            "text/plain": [
              "<matplotlib.legend.Legend at 0x7fe21ddb1060>"
            ]
          },
          "metadata": {},
          "execution_count": 25
        },
        {
          "output_type": "display_data",
          "data": {
            "text/plain": [
              "<Figure size 640x480 with 1 Axes>"
            ],
            "image/png": "[encoded data removed]"
          },
          "metadata": {}
        }
      ]
    },
    {
      "cell_type": "code",
      "source": [
        "epoch = range(len(history.history[\"loss\"]))\n",
        "plt.figure()\n",
        "plt.plot(epoch, history.history['accuracy'], 'red', label = 'train_accuracy')\n",
        "plt.plot(epoch, history.history['val_accuracy'], 'blue', label = 'val_accuaracy')\n",
        "plt.title(\"Training Accuracy on Dataset\")\n",
        "plt.xlabel(\"Epoch #\")\n",
        "plt.ylabel(\"accuracy\")\n",
        "plt.legend()"
      ],
      "metadata": {
        "colab": {
          "base_uri": "https://localhost:8080/",
          "height": 489
        },
        "id": "twYvSm9l3VdU",
        "outputId": "689a3efd-82e0-4de0-b9da-67035ff6f5bc"
      },
      "execution_count": 26,
      "outputs": [
        {
          "output_type": "execute_result",
          "data": {
            "text/plain": [
              "<matplotlib.legend.Legend at 0x7fe21dc2df90>"
            ]
          },
          "metadata": {},
          "execution_count": 26
        },
        {
          "output_type": "display_data",
          "data": {
            "text/plain": [
              "<Figure size 640x480 with 1 Axes>"
            ],
            "image/png": "[encoded data removed]"
          },
          "metadata": {}
        }
      ]
    },
    {
      "cell_type": "code",
      "source": [
        "model_dl.save(\"/content/drive/MyDrive/train_trest_bc/model/bicep_dl.h5\")"
      ],
      "metadata": {
        "id": "kI6F8PqFLMAI"
      },
      "execution_count": null,
      "outputs": []
    }
  ]
}